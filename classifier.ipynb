{
 "cells": [
  {
   "cell_type": "code",
   "execution_count": 1,
   "metadata": {
    "collapsed": true,
    "deletable": true,
    "editable": true
   },
   "outputs": [],
   "source": [
    "import csv as csv\n",
    "import re as re"
   ]
  },
  {
   "cell_type": "code",
   "execution_count": 2,
   "metadata": {
    "collapsed": false,
    "deletable": true,
    "editable": true
   },
   "outputs": [],
   "source": [
    "def process_review(review):\n",
    "    review = review.lower()\n",
    "    review = re.sub('<br \\/>|\\(|\\)|\\.|\\?|\\,|\\'|[0-9]|\\!|\\\\\\\\|\\\"|\\:|\\;|\\¨',' ',review)#regex for \\ ?\n",
    "    review = re.sub('\\s[a-z]\\s',' ',review)\n",
    "    review = review.split()\n",
    "    with open('stop-word-list.csv') as stopwords:\n",
    "        for word in stopwords:\n",
    "            stopword = word.split(', ')\n",
    "        review = [word for word in review if word not in stopword]\n",
    "        stopwords.close()\n",
    "        \n",
    "    return review\n"
   ]
  },
  {
   "cell_type": "code",
   "execution_count": 3,
   "metadata": {
    "collapsed": false,
    "deletable": true,
    "editable": true
   },
   "outputs": [],
   "source": [
    "def update_array(review,sentiment,array):\n",
    "    if sentiment=='1':\n",
    "        for word in review:\n",
    "            flag=0\n",
    "            for i in range(len(array)):\n",
    "                if array[i][0]==word:\n",
    "                    flag=1\n",
    "                    array[i][1] = array[i][1] + 1\n",
    "                    break\n",
    "            if flag!=1:\n",
    "                array.append([word,1,0])\n",
    "    else:\n",
    "        for word in review:\n",
    "            flag=0\n",
    "            for i in range(len(array)):\n",
    "                if array[i][0]==word:\n",
    "                    flag=1\n",
    "                    array[i][2] = array[i][2] + 1\n",
    "                    break\n",
    "            if flag!=1:\n",
    "                array.append([word,0,1])\n",
    "                \n",
    "    return array    "
   ]
  },
  {
   "cell_type": "code",
   "execution_count": 4,
   "metadata": {
    "collapsed": false,
    "deletable": true,
    "editable": true
   },
   "outputs": [],
   "source": [
    "def probability_calculations(review,sentiment,bag_of_words_array):\n",
    "    prob = 1.0\n",
    "    for word in review:\n",
    "        flag=0\n",
    "        for i in range(len(bag_of_words_array)):\n",
    "                if bag_of_words_array[i][0]==word:\n",
    "                    prob = prob*((bag_of_words_array[i][1]+1) if (sentiment==1) else (bag_of_words_array[i][2]+1))\n",
    "                    prob = prob/(float)(bag_of_words_array[i][1]+bag_of_words_array[i][2]+2)\n",
    "                    break\n",
    "    return prob        "
   ]
  },
  {
   "cell_type": "code",
   "execution_count": 5,
   "metadata": {
    "collapsed": false,
    "deletable": true,
    "editable": true
   },
   "outputs": [
    {
     "name": "stdout",
     "output_type": "stream",
     "text": [
      "6312\n",
      "6188\n"
     ]
    }
   ],
   "source": [
    "with open('labeledTrainData.tsv') as training_data:\n",
    "    reader = csv.DictReader(training_data,delimiter='\\t') #did not understand this delimeter\n",
    "    c = [[0 for j in range(3)] for i in range(0)]\n",
    "    flag = 0\n",
    "    positive = 0\n",
    "    negative = 0\n",
    "    for line in reader:\n",
    "        flag = flag+1\n",
    "        line['review'] = process_review(line['review'])\n",
    "        c = update_array(line['review'],line['sentiment'],c)\n",
    "        if line['sentiment']=='1':\n",
    "            positive =positive + 1\n",
    "        else:\n",
    "            negative = negative + 1\n",
    "        if flag==12500:\n",
    "            break\n",
    "    print positive\n",
    "    print negative            \n",
    "        "
   ]
  },
  {
   "cell_type": "code",
   "execution_count": 8,
   "metadata": {
    "collapsed": false,
    "deletable": true,
    "editable": true
   },
   "outputs": [
    {
     "name": "stdout",
     "output_type": "stream",
     "text": [
      "2007\n",
      "4001\n",
      "50.1624593852\n"
     ]
    }
   ],
   "source": [
    "with open('test.tsv') as test_data:\n",
    "    read_test = csv.DictReader(test_data,delimiter='\\t')\n",
    "    test_array = []\n",
    "    for line in read_test:\n",
    "        line['review'] = process_review(line['review'])\n",
    "        positive_prob = probability_calculations(line['review'],1,c)*(positive/(positive+negative))\n",
    "        negative_prob = probability_calculations(line['review'],0,c)*(negative/(negative+positive))\n",
    "        sentiment = 1 if positive_prob>negative_prob else 0\n",
    "        #print line['sentiment'],sentiment,probability_calculations(line['review'],1,c),probability_calculations(line['review'],0,c)\n",
    "        if str(sentiment)==(line['sentiment']):\n",
    "            test_array.append(1)\n",
    "        else:\n",
    "            test_array.append(0)\n",
    "    print sum(test_array)\n",
    "    print len(test_array)\n",
    "    print (float(sum(test_array))*100)/len(test_array)\n",
    "        "
   ]
  },
  {
   "cell_type": "code",
   "execution_count": null,
   "metadata": {
    "collapsed": true,
    "deletable": true,
    "editable": true
   },
   "outputs": [],
   "source": []
  },
  {
   "cell_type": "code",
   "execution_count": null,
   "metadata": {
    "collapsed": true,
    "deletable": true,
    "editable": true
   },
   "outputs": [],
   "source": []
  }
 ],
 "metadata": {
  "kernelspec": {
   "display_name": "Python 2",
   "language": "python",
   "name": "python2"
  },
  "language_info": {
   "codemirror_mode": {
    "name": "ipython",
    "version": 2
   },
   "file_extension": ".py",
   "mimetype": "text/x-python",
   "name": "python",
   "nbconvert_exporter": "python",
   "pygments_lexer": "ipython2",
   "version": "2.7.13"
  }
 },
 "nbformat": 4,
 "nbformat_minor": 2
}
