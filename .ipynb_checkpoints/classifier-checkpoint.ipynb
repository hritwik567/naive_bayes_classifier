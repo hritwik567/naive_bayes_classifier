{
 "cells": [
  {
   "cell_type": "code",
   "execution_count": 6,
   "metadata": {
    "collapsed": true,
    "deletable": true,
    "editable": true
   },
   "outputs": [],
   "source": [
    "import csv as csv\n",
    "import re as re"
   ]
  },
  {
   "cell_type": "code",
   "execution_count": 7,
   "metadata": {
    "collapsed": false,
    "deletable": true,
    "editable": true
   },
   "outputs": [],
   "source": [
    "def process_review(review):\n",
    "    review = review.lower()\n",
    "    review = re.sub('<br \\/>|\\(|\\)|\\.|\\?|\\,|\\'|[0-9]|\\!|\\\\\\\\|\\\"|\\:|\\¨',' ',review)#regex for \\ ?\n",
    "    review = re.sub('\\s[a-z]\\s',' ',review)\n",
    "    review = review.split()\n",
    "    with open('stop-word-list.csv') as stopwords:\n",
    "        for word in stopwords:\n",
    "            stopword = word.split(', ')\n",
    "        review = [word for word in review if word not in stopword]\n",
    "        stopwords.close()\n",
    "        \n",
    "    return review\n"
   ]
  },
  {
   "cell_type": "code",
   "execution_count": 8,
   "metadata": {
    "collapsed": false,
    "deletable": true,
    "editable": true
   },
   "outputs": [],
   "source": [
    "def update_array(review,sentiment,array):\n",
    "    if sentiment=='1':\n",
    "        for word in review:\n",
    "            flag=0\n",
    "            for i in range(len(array)):\n",
    "                if array[i][0]==word:\n",
    "                    flag=1\n",
    "                    array[i][1] = array[i][1] + 1\n",
    "                    break\n",
    "            if flag!=1:\n",
    "                array.append([word,1,0])\n",
    "    else:\n",
    "        for word in review:\n",
    "            flag=0\n",
    "            for i in range(len(array)):\n",
    "                if array[i][0]==word:\n",
    "                    flag=1\n",
    "                    array[i][2] = array[i][2] + 1\n",
    "                    break\n",
    "            if flag!=1:\n",
    "                array.append([word,0,1])\n",
    "                \n",
    "    return array    "
   ]
  },
  {
   "cell_type": "code",
   "execution_count": 38,
   "metadata": {
    "collapsed": false
   },
   "outputs": [],
   "source": [
    "def probability_calculations(review,sentiment,bag_of_words_array):\n",
    "    prob = 1.0\n",
    "    for word in review:\n",
    "        flag=0\n",
    "        for i in range(len(bag_of_words_array)):\n",
    "                if bag_of_words_array[i][0]==word:\n",
    "                    prob = prob*((bag_of_words_array[i][1]+1) if (sentiment==1) else (bag_of_words_array[i][2]+1))\n",
    "                    prob = prob/(float)(bag_of_words_array[i][1]+bag_of_words_array[i][2]+2)\n",
    "                    break\n",
    "    return prob        "
   ]
  },
  {
   "cell_type": "code",
   "execution_count": 10,
   "metadata": {
    "collapsed": false,
    "deletable": true,
    "editable": true
   },
   "outputs": [
    {
     "name": "stdout",
     "output_type": "stream",
     "text": [
      "45\n",
      "55\n"
     ]
    }
   ],
   "source": [
    "with open('labeledTrainData.tsv') as training_data:\n",
    "    reader = csv.DictReader(training_data,delimiter='\\t') #did not understand this delimeter\n",
    "    c = [[0 for j in range(3)] for i in range(0)]\n",
    "    flag = 0\n",
    "    positive = 0\n",
    "    negative = 0\n",
    "    for line in reader:\n",
    "        flag = flag+1\n",
    "        line['review'] = process_review(line['review'])\n",
    "        c = update_array(line['review'],line['sentiment'],c)\n",
    "        if line['sentiment']=='1':\n",
    "            positive =positive + 1\n",
    "        else:\n",
    "            negative = negative + 1\n",
    "        if flag==100:\n",
    "            break\n",
    "    print positive\n",
    "    print negative            \n",
    "        "
   ]
  },
  {
   "cell_type": "code",
   "execution_count": 47,
   "metadata": {
    "collapsed": false,
    "deletable": true,
    "editable": true
   },
   "outputs": [
    {
     "name": "stdout",
     "output_type": "stream",
     "text": [
      "0 0 5.97142616162e-46 9.04744964268e-27\n",
      "0 0 3.6177435598e-16 2.0732741647e-10\n",
      "0 0 7.64829345884e-24 6.68035343094e-22\n",
      "0 0 1.17313252294e-137 5.11301523668e-113\n",
      "0 0 2.15997480762e-13 7.36630798858e-11\n",
      "1 1 2.35930390324e-20 1.36780391831e-30\n",
      "1 0 2.83575422722e-08 5.8702458256e-07\n",
      "1 1 6.41855686093e-16 1.23377142383e-16\n",
      "1 0 1.64690515933e-17 3.63261335689e-15\n",
      "0 0 4.44818494004e-16 6.32819865451e-15\n",
      "0 0 8.61235656191e-53 4.07717297283e-45\n",
      "1 1 4.40857265377e-48 6.96860534545e-55\n",
      "0 0 2.04726465673e-25 2.72530388801e-18\n",
      "0 0 2.80905191166e-30 4.36819377927e-25\n",
      "1 1 2.2165339992e-40 1.45508778291e-40\n",
      "0 0 8.13899342042e-09 4.70705511721e-08\n",
      "1 1 4.63872028571e-21 3.59909300637e-22\n",
      "1 1 1.54927751195e-28 5.8564465463e-47\n",
      "0 0 2.33440845985e-15 4.6827260061e-14\n",
      "1 0 5.03435637862e-18 2.10733728501e-15\n",
      "0 0 5.0584978008e-16 3.75675529997e-12\n",
      "0 1 4.44191943383e-15 1.71721896452e-15\n",
      "1 0 3.49158766456e-23 1.14110643321e-17\n",
      "0 1 5.59386748879e-45 4.37985519746e-45\n",
      "0 0 3.13587829401e-18 5.78418900858e-16\n",
      "1 1 3.56339206208e-31 1.06090425549e-35\n",
      "0 0 6.6964261943e-43 1.51459006768e-42\n",
      "0 0 3.09339723924e-100 9.17930989454e-82\n",
      "0 0 3.47501223434e-61 2.45083190407e-51\n",
      "1 1 3.72391313712e-38 2.39891539564e-40\n",
      "0 0 2.36770154624e-21 5.22881076694e-14\n",
      "[1, 1, 1, 1, 1, 1, 0, 1, 0, 1, 1, 1, 1, 1, 1, 1, 1, 1, 1, 0, 1, 0, 0, 0, 1, 1, 1, 1, 1, 1, 1]\n",
      "25\n",
      "31\n",
      "80.6451612903\n"
     ]
    }
   ],
   "source": [
    "with open('test.tsv') as test_data:\n",
    "    read_test = csv.DictReader(test_data,delimiter='\\t')\n",
    "    test_array = []\n",
    "    for line in read_test:\n",
    "        line['review'] = process_review(line['review'])\n",
    "        sentiment = 1 if probability_calculations(line['review'],1,c)>probability_calculations(line['review'],0,c) else 0\n",
    "        print line['sentiment'],sentiment,probability_calculations(line['review'],1,c),probability_calculations(line['review'],0,c)\n",
    "        if str(sentiment)==(line['sentiment']):\n",
    "            test_array.append(1)\n",
    "        else:\n",
    "            test_array.append(0)\n",
    "    print test_array\n",
    "    print sum(test_array)\n",
    "    print len(test_array)\n",
    "    print (float(sum(test_array))*100)/len(test_array)\n",
    "        "
   ]
  },
  {
   "cell_type": "code",
   "execution_count": null,
   "metadata": {
    "collapsed": true
   },
   "outputs": [],
   "source": []
  },
  {
   "cell_type": "code",
   "execution_count": null,
   "metadata": {
    "collapsed": true
   },
   "outputs": [],
   "source": []
  }
 ],
 "metadata": {
  "kernelspec": {
   "display_name": "Python 2",
   "language": "python",
   "name": "python2"
  },
  "language_info": {
   "codemirror_mode": {
    "name": "ipython",
    "version": 2
   },
   "file_extension": ".py",
   "mimetype": "text/x-python",
   "name": "python",
   "nbconvert_exporter": "python",
   "pygments_lexer": "ipython2",
   "version": "2.7.13"
  }
 },
 "nbformat": 4,
 "nbformat_minor": 2
}
